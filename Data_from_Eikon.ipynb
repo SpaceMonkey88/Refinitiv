{
 "cells": [
  {
   "cell_type": "markdown",
   "metadata": {},
   "source": [
    "EIKON "
   ]
  },
  {
   "cell_type": "code",
   "execution_count": 2,
   "metadata": {},
   "outputs": [],
   "source": [
    "import refinitiv.dataplatform.eikon as ek\n",
    "\n",
    "ek.set_app_key('530101f74d64417c846f4ac3d4faef865c4120af')"
   ]
  },
  {
   "cell_type": "markdown",
   "metadata": {},
   "source": [
    "guide\n",
    "https://developers.lseg.com/en/video-catalog/data-item-browser\n",
    "\n",
    "use data item browser in workspace and already set parameters"
   ]
  },
  {
   "cell_type": "code",
   "execution_count": 8,
   "metadata": {},
   "outputs": [
    {
     "data": {
      "text/html": [
       "<div>\n",
       "<style scoped>\n",
       "    .dataframe tbody tr th:only-of-type {\n",
       "        vertical-align: middle;\n",
       "    }\n",
       "\n",
       "    .dataframe tbody tr th {\n",
       "        vertical-align: top;\n",
       "    }\n",
       "\n",
       "    .dataframe thead th {\n",
       "        text-align: right;\n",
       "    }\n",
       "</style>\n",
       "<table border=\"1\" class=\"dataframe\">\n",
       "  <thead>\n",
       "    <tr style=\"text-align: right;\">\n",
       "      <th></th>\n",
       "      <th>Instrument</th>\n",
       "      <th>Calc Date</th>\n",
       "      <th>Date</th>\n",
       "      <th>Total Revenue</th>\n",
       "    </tr>\n",
       "  </thead>\n",
       "  <tbody>\n",
       "    <tr>\n",
       "      <th>0</th>\n",
       "      <td>TSLA.O</td>\n",
       "      <td>2021-01-27</td>\n",
       "      <td>2020-12-31T00:00:00Z</td>\n",
       "      <td>31536000000</td>\n",
       "    </tr>\n",
       "    <tr>\n",
       "      <th>1</th>\n",
       "      <td>TSLA.O</td>\n",
       "      <td>2022-01-26</td>\n",
       "      <td>2021-12-31T00:00:00Z</td>\n",
       "      <td>53823000000</td>\n",
       "    </tr>\n",
       "    <tr>\n",
       "      <th>2</th>\n",
       "      <td>TSLA.O</td>\n",
       "      <td>2023-01-25</td>\n",
       "      <td>2022-12-31T00:00:00Z</td>\n",
       "      <td>81462000000</td>\n",
       "    </tr>\n",
       "    <tr>\n",
       "      <th>3</th>\n",
       "      <td>TSLA.O</td>\n",
       "      <td>2024-01-24</td>\n",
       "      <td>2023-12-31T00:00:00Z</td>\n",
       "      <td>96773000000</td>\n",
       "    </tr>\n",
       "  </tbody>\n",
       "</table>\n",
       "</div>"
      ],
      "text/plain": [
       "  Instrument   Calc Date                  Date  Total Revenue\n",
       "0     TSLA.O  2021-01-27  2020-12-31T00:00:00Z    31536000000\n",
       "1     TSLA.O  2022-01-26  2021-12-31T00:00:00Z    53823000000\n",
       "2     TSLA.O  2023-01-25  2022-12-31T00:00:00Z    81462000000\n",
       "3     TSLA.O  2024-01-24  2023-12-31T00:00:00Z    96773000000"
      ]
     },
     "metadata": {},
     "output_type": "display_data"
    }
   ],
   "source": [
    "# calc date is reporting date\n",
    "\n",
    "df, err = ek.get_data(\n",
    "    instruments = ['TSLA.O'],\n",
    "    fields = ['TR.TotalRevenue.calcdate', 'TR.TotalRevenue.date', 'TR.TotalRevenue'],\n",
    "    parameters = {\n",
    "        'Curn': 'USD',\n",
    "        'SDATE': '2020-12-31',\n",
    "        'EDATE': '2024-12-31',\n",
    "        'FRQ': 'FY'\n",
    "    }\n",
    ")\n",
    "\n",
    "display(df)"
   ]
  },
  {
   "cell_type": "code",
   "execution_count": null,
   "metadata": {},
   "outputs": [],
   "source": [
    "df, err = ek.get_data(\n",
    "    instruments = ['TSLA.O'],\n",
    "    fields = [\n",
    "        'TR.OPENPRICE',\n",
    "        'TR.LOWPRICE',\n",
    "        'TR.HIGHPRICE',\n",
    "        'TR.CLOSEPRICE',\n",
    "        'TR.Volume']\n",
    ")\n",
    "\n",
    "display(df)"
   ]
  },
  {
   "cell_type": "code",
   "execution_count": null,
   "metadata": {},
   "outputs": [],
   "source": [
    "a = rd.get_history(\n",
    "    universe='TSLA.O',\n",
    "    fields=['TR.OPENPRICE',\n",
    "            'TR.LOWPRICE',\n",
    "            'TR.HIGHPRICE',\n",
    "            'TR.CLOSEPRICE',\n",
    "            'TR.Volume',\n",
    "            'TR.NetIncome'],\n",
    "    interval=\"1D\",\n",
    "    start=\"2015-01-01\",\n",
    "    end=\"2019-10-01\"\n",
    ")\n",
    "print(a)"
   ]
  },
  {
   "cell_type": "markdown",
   "metadata": {},
   "source": [
    "how was this formula made?\n",
    "how can I change header?"
   ]
  },
  {
   "cell_type": "code",
   "execution_count": 5,
   "metadata": {},
   "outputs": [
    {
     "data": {
      "text/html": [
       "<div>\n",
       "<style scoped>\n",
       "    .dataframe tbody tr th:only-of-type {\n",
       "        vertical-align: middle;\n",
       "    }\n",
       "\n",
       "    .dataframe tbody tr th {\n",
       "        vertical-align: top;\n",
       "    }\n",
       "\n",
       "    .dataframe thead th {\n",
       "        text-align: right;\n",
       "    }\n",
       "</style>\n",
       "<table border=\"1\" class=\"dataframe\">\n",
       "  <thead>\n",
       "    <tr style=\"text-align: right;\">\n",
       "      <th></th>\n",
       "      <th>Instrument</th>\n",
       "      <th>IF(TR.NETINCOME(PERIOD=FY0)&gt;0,1,0)+IF(TR.CASHFROMOPERATINGACT(PERIOD=FY0)&gt;0,1,0)+IF(TR.ROAACTVALUE(PERIOD=FY0)&gt;TR.ROAACTVALUE(PERIOD=FY-1),1,0)+IF(TR.CASHFROMOPERATINGACT(PERIOD=FY0)&gt;TR.NETINCOMEBEFOREEXTRAITEMS(PERIOD=FY0),1,0)+IF(TR.LTDEBTTOTOTALASSETSPCT(PERIOD=FY0)&gt;=TR.LTDEBTTOTOTALASSETSPCT(PERIOD=FY-1),1,0)+IF(TR.CURRENTRATIO(PERIOD=FY0)&gt;TR.CURRENTRATIO(PERIOD=FY-1),1,0)+IF(TR.SALEISSUANCEOFCOMMON(PERIOD=FY0)&gt;=0,1,0)+IF(TR.GROSSPROFITMARGININDUSTRIALANDUTILITYPCT(PERIOD=FY0)&gt;=TR.GROSSPROFITMARGININDUSTRIALANDUTILITYPCT(PERIOD=FY-1),1,0)+IF(TR.ASSETTURNOVER(PERIOD=FY0)&gt;TR.AssetTurnover(Period=FY-1),1,0)/*Piotroski F-Score*//*Piotroski F-Score*/</th>\n",
       "    </tr>\n",
       "  </thead>\n",
       "  <tbody>\n",
       "    <tr>\n",
       "      <th>0</th>\n",
       "      <td>TSLA.O</td>\n",
       "      <td>4</td>\n",
       "    </tr>\n",
       "  </tbody>\n",
       "</table>\n",
       "</div>"
      ],
      "text/plain": [
       "  Instrument  \\\n",
       "0     TSLA.O   \n",
       "\n",
       "   IF(TR.NETINCOME(PERIOD=FY0)>0,1,0)+IF(TR.CASHFROMOPERATINGACT(PERIOD=FY0)>0,1,0)+IF(TR.ROAACTVALUE(PERIOD=FY0)>TR.ROAACTVALUE(PERIOD=FY-1),1,0)+IF(TR.CASHFROMOPERATINGACT(PERIOD=FY0)>TR.NETINCOMEBEFOREEXTRAITEMS(PERIOD=FY0),1,0)+IF(TR.LTDEBTTOTOTALASSETSPCT(PERIOD=FY0)>=TR.LTDEBTTOTOTALASSETSPCT(PERIOD=FY-1),1,0)+IF(TR.CURRENTRATIO(PERIOD=FY0)>TR.CURRENTRATIO(PERIOD=FY-1),1,0)+IF(TR.SALEISSUANCEOFCOMMON(PERIOD=FY0)>=0,1,0)+IF(TR.GROSSPROFITMARGININDUSTRIALANDUTILITYPCT(PERIOD=FY0)>=TR.GROSSPROFITMARGININDUSTRIALANDUTILITYPCT(PERIOD=FY-1),1,0)+IF(TR.ASSETTURNOVER(PERIOD=FY0)>TR.AssetTurnover(Period=FY-1),1,0)/*Piotroski F-Score*//*Piotroski F-Score*/  \n",
       "0                                                  4                                                                                                                                                                                                                                                                                                                                                                                                                                                                                                                                                                                                                                  "
      ]
     },
     "metadata": {},
     "output_type": "display_data"
    }
   ],
   "source": [
    "df, err = ek.get_data(\n",
    "    instruments = ['TSLA.O'],\n",
    "    fields = [\n",
    "        'if(TR.NetIncome(Period=FY0)>0,1,0)+if(TR.CashFromOperatingAct(Period=FY0)>0,1,0)+if(TR.ROAActValue(Period=FY0)>TR.ROAActValue(Period=FY-1),1,0)+if(TR.CashFromOperatingAct(Period=FY0)>TR.NetIncomeBeforeExtraItems(Period=FY0),1,0)+if(TR.LTDebtToTotalAssetsPct(Period=FY0)>=TR.LTDebtToTotalAssetsPct(Period=FY-1),1,0)+if(TR.CurrentRatio(Period=FY0)>TR.CurrentRatio(Period=FY-1),1,0)+if(TR.SaleIssuanceOfCommon(Period=FY0)>=0,1,0)+if(TR.GrossProfitMarginIndustrialAndUtilityPct(Period=FY0)>=TR.GrossProfitMarginIndustrialAndUtilityPct(Period=FY-1),1,0)+if(TR.AssetTurnover(Period=FY0)>TR.AssetTurnover(Period=FY-1),1,0)/*Piotroski F-Score*//*Piotroski F-Score*/'\n",
    "    ]\n",
    ")\n",
    "\n",
    "display(df)"
   ]
  },
  {
   "cell_type": "code",
   "execution_count": 6,
   "metadata": {},
   "outputs": [
    {
     "data": {
      "text/html": [
       "<div>\n",
       "<style scoped>\n",
       "    .dataframe tbody tr th:only-of-type {\n",
       "        vertical-align: middle;\n",
       "    }\n",
       "\n",
       "    .dataframe tbody tr th {\n",
       "        vertical-align: top;\n",
       "    }\n",
       "\n",
       "    .dataframe thead th {\n",
       "        text-align: right;\n",
       "    }\n",
       "</style>\n",
       "<table border=\"1\" class=\"dataframe\">\n",
       "  <thead>\n",
       "    <tr style=\"text-align: right;\">\n",
       "      <th></th>\n",
       "      <th>Instrument</th>\n",
       "      <th>Calc Date</th>\n",
       "      <th>Open Price</th>\n",
       "    </tr>\n",
       "  </thead>\n",
       "  <tbody>\n",
       "    <tr>\n",
       "      <th>0</th>\n",
       "      <td>IWDA.AS</td>\n",
       "      <td>2023-12-11</td>\n",
       "      <td>81.0</td>\n",
       "    </tr>\n",
       "    <tr>\n",
       "      <th>1</th>\n",
       "      <td>IWDA.AS</td>\n",
       "      <td>2023-12-12</td>\n",
       "      <td>81.255</td>\n",
       "    </tr>\n",
       "    <tr>\n",
       "      <th>2</th>\n",
       "      <td>IWDA.AS</td>\n",
       "      <td>2023-12-13</td>\n",
       "      <td>81.425</td>\n",
       "    </tr>\n",
       "    <tr>\n",
       "      <th>3</th>\n",
       "      <td>IWDA.AS</td>\n",
       "      <td>2023-12-14</td>\n",
       "      <td>82.165</td>\n",
       "    </tr>\n",
       "    <tr>\n",
       "      <th>4</th>\n",
       "      <td>IWDA.AS</td>\n",
       "      <td>2023-12-15</td>\n",
       "      <td>81.695</td>\n",
       "    </tr>\n",
       "    <tr>\n",
       "      <th>...</th>\n",
       "      <td>...</td>\n",
       "      <td>...</td>\n",
       "      <td>...</td>\n",
       "    </tr>\n",
       "    <tr>\n",
       "      <th>196</th>\n",
       "      <td>IWDA.AS</td>\n",
       "      <td>2024-09-18</td>\n",
       "      <td>94.965</td>\n",
       "    </tr>\n",
       "    <tr>\n",
       "      <th>197</th>\n",
       "      <td>IWDA.AS</td>\n",
       "      <td>2024-09-19</td>\n",
       "      <td>95.5</td>\n",
       "    </tr>\n",
       "    <tr>\n",
       "      <th>198</th>\n",
       "      <td>IWDA.AS</td>\n",
       "      <td>2024-09-20</td>\n",
       "      <td>95.665</td>\n",
       "    </tr>\n",
       "    <tr>\n",
       "      <th>199</th>\n",
       "      <td>IWDA.AS</td>\n",
       "      <td>2024-09-23</td>\n",
       "      <td>95.615</td>\n",
       "    </tr>\n",
       "    <tr>\n",
       "      <th>200</th>\n",
       "      <td>IWDA.AS</td>\n",
       "      <td>2024-09-24</td>\n",
       "      <td>96.365</td>\n",
       "    </tr>\n",
       "  </tbody>\n",
       "</table>\n",
       "<p>201 rows × 3 columns</p>\n",
       "</div>"
      ],
      "text/plain": [
       "    Instrument   Calc Date  Open Price\n",
       "0      IWDA.AS  2023-12-11        81.0\n",
       "1      IWDA.AS  2023-12-12      81.255\n",
       "2      IWDA.AS  2023-12-13      81.425\n",
       "3      IWDA.AS  2023-12-14      82.165\n",
       "4      IWDA.AS  2023-12-15      81.695\n",
       "..         ...         ...         ...\n",
       "196    IWDA.AS  2024-09-18      94.965\n",
       "197    IWDA.AS  2024-09-19        95.5\n",
       "198    IWDA.AS  2024-09-20      95.665\n",
       "199    IWDA.AS  2024-09-23      95.615\n",
       "200    IWDA.AS  2024-09-24      96.365\n",
       "\n",
       "[201 rows x 3 columns]"
      ]
     },
     "metadata": {},
     "output_type": "display_data"
    }
   ],
   "source": [
    "df, err = ek.get_data(\n",
    "    instruments = ['IWDA.AS'],\n",
    "    fields = [ \n",
    "        'TR.OPENPRICE(SDate=-200D,EDate=0D).calcdate',\n",
    "        'TR.OPENPRICE(SDate=-200D,EDate=0D)'\n",
    "    ]\n",
    ")\n",
    "\n",
    "display(df)"
   ]
  }
 ],
 "metadata": {
  "kernelspec": {
   "display_name": "base",
   "language": "python",
   "name": "python3"
  },
  "language_info": {
   "codemirror_mode": {
    "name": "ipython",
    "version": 3
   },
   "file_extension": ".py",
   "mimetype": "text/x-python",
   "name": "python",
   "nbconvert_exporter": "python",
   "pygments_lexer": "ipython3",
   "version": "3.9.13"
  }
 },
 "nbformat": 4,
 "nbformat_minor": 2
}
